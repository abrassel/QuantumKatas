{
 "cells": [
  {
   "cell_type": "code",
   "execution_count": 6,
   "metadata": {},
   "outputs": [
    {
     "data": {
      "application/x-qsharp-data": "\"Success!\"",
      "text/plain": [
       "Success!"
      ]
     },
     "execution_count": 6,
     "metadata": {},
     "output_type": "execute_result"
    }
   ],
   "source": [
    "%kata Q11_Oracle_CountBits\n",
    "\n",
    "operation Oracle_CountBits (x : Qubit[], y : Qubit) : Unit is Adj {        \n",
    "    for q in x {\n",
    "        CNOT(q, y);\n",
    "    }\n",
    "}"
   ]
  },
  {
   "cell_type": "code",
   "execution_count": 8,
   "metadata": {},
   "outputs": [
    {
     "data": {
      "application/x-qsharp-data": "\"Success!\"",
      "text/plain": [
       "Success!"
      ]
     },
     "execution_count": 8,
     "metadata": {},
     "output_type": "execute_result"
    }
   ],
   "source": [
    "%kata Q12_Oracle_BitwiseRightShift\n",
    "\n",
    "operation Oracle_BitwiseRightShift (x : Qubit[], y : Qubit[]) : Unit is Adj {        \n",
    "    for i in 0..Length(x)-2 {\n",
    "        CNOT(x[i], y[i+1]);\n",
    "    }\n",
    "}"
   ]
  },
  {
   "cell_type": "code",
   "execution_count": 11,
   "metadata": {},
   "outputs": [
    {
     "data": {
      "application/x-qsharp-data": "\"Success!\"",
      "text/plain": [
       "Success!"
      ]
     },
     "execution_count": 11,
     "metadata": {},
     "output_type": "execute_result"
    }
   ],
   "source": [
    "%kata Q13_Oracle_OperatorOutput\n",
    "\n",
    "open Microsoft.Quantum.Arrays;\n",
    "open Microsoft.Quantum.Diagnostics;\n",
    "\n",
    "operation Oracle_OperatorOutput (x : Qubit[], y : Qubit, A : Int[]) : Unit is Adj {\n",
    "    // The following line enforces the constraint on the input arrays.\n",
    "    // You don't need to modify it. Feel free to remove it, this won't cause your code to fail.\n",
    "    EqualityFactI(Length(x), Length(A), \"Arrays x and A should have the same length\");\n",
    "        \n",
    "    for (xi, ai) in Zipped(x, A) {\n",
    "        if ai == 1 {\n",
    "            CNOT(xi, y);\n",
    "        }\n",
    "    }\n",
    "}"
   ]
  },
  {
   "cell_type": "code",
   "execution_count": 12,
   "metadata": {},
   "outputs": [
    {
     "data": {
      "application/x-qsharp-data": "\"Success!\"",
      "text/plain": [
       "Success!"
      ]
     },
     "execution_count": 12,
     "metadata": {},
     "output_type": "execute_result"
    }
   ],
   "source": [
    "%kata Q14_Oracle_MultidimensionalOperatorOutput\n",
    "\n",
    "operation Oracle_MultidimensionalOperatorOutput (x : Qubit[], y : Qubit[], A : Int[][]) : Unit is Adj {\n",
    "    \n",
    "    // The following lines enforce the constraints on the input arrays.\n",
    "    // You don't need to modify them. Feel free to remove them, this won't cause your code to fail.\n",
    "    EqualityFactI(Length(x), Length(A[0]), \"Arrays x and A[0] should have the same length\");\n",
    "    EqualityFactI(Length(y), Length(A), \"Arrays y and A should have the same length\");\n",
    "        \n",
    "    for i in 0..Length(x)-1 {\n",
    "        for j in 0..Length(y)-1 {\n",
    "            if A[j][i] == 1 {\n",
    "                CNOT(x[i], y[j]);\n",
    "            }\n",
    "        }\n",
    "    }\n",
    "}"
   ]
  },
  {
   "cell_type": "code",
   "execution_count": 14,
   "metadata": {},
   "outputs": [
    {
     "data": {
      "application/x-qsharp-data": "\"Success!\"",
      "text/plain": [
       "Success!"
      ]
     },
     "execution_count": 14,
     "metadata": {},
     "output_type": "execute_result"
    }
   ],
   "source": [
    "%kata Q21_StatePrep\n",
    "\n",
    "operation SA_StatePrep (query : Qubit[]) : Unit is Adj {        \n",
    "    for q in query {\n",
    "        H(q);\n",
    "    }\n",
    "}"
   ]
  },
  {
   "cell_type": "code",
   "execution_count": 15,
   "metadata": {},
   "outputs": [
    {
     "data": {
      "application/x-qsharp-data": "[\"Simon_Algorithm\"]",
      "text/html": [
       "<ul><li>Simon_Algorithm</li></ul>"
      ],
      "text/plain": [
       "Simon_Algorithm"
      ]
     },
     "execution_count": 15,
     "metadata": {},
     "output_type": "execute_result"
    }
   ],
   "source": [
    "    operation Simon_Algorithm (N : Int, Uf : ((Qubit[], Qubit[]) => Unit)) : Int[] {\n",
    "        use (x, y) = (Qubit[N], Qubit[N]);\n",
    "\n",
    "        within {\n",
    "            for xi in x {\n",
    "                H(xi);\n",
    "            }\n",
    "        }\n",
    "        apply {\n",
    "            Uf(x, y);\n",
    "        }\n",
    "\n",
    "\n",
    "        mutable j = [];\n",
    "        for i in 0 .. N - 1 {\n",
    "            set j += [M(x[i]) == One ? 1 | 0];\n",
    "        }\n",
    "            \n",
    "        // since y has not been measured, we reset y qubits\n",
    "        ResetAll(y);\n",
    "        return j;\n",
    "    }"
   ]
  }
 ],
 "metadata": {
  "kernelspec": {
   "display_name": "Q#",
   "language": "qsharp",
   "name": "iqsharp"
  },
  "language_info": {
   "file_extension": ".qs",
   "mimetype": "text/x-qsharp",
   "name": "qsharp",
   "version": "0.24"
  },
  "orig_nbformat": 4,
  "vscode": {
   "interpreter": {
    "hash": "ed1a8d7f5d73c57f02c6ff426926aa61544ff67af96c817813be511267089e37"
   }
  }
 },
 "nbformat": 4,
 "nbformat_minor": 2
}
